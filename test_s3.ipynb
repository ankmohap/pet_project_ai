{
 "cells": [
  {
   "cell_type": "code",
   "execution_count": 50,
   "id": "d28fa856",
   "metadata": {},
   "outputs": [],
   "source": [
    "import boto3\n",
    "import pandas as pd\n",
    "import json\n",
    "s3 = boto3.client('s3')"
   ]
  },
  {
   "cell_type": "code",
   "execution_count": 51,
   "id": "c810aadb",
   "metadata": {},
   "outputs": [],
   "source": [
    "s3 = boto3.resource(\n",
    "    service_name='s3',\n",
    "    region_name='us-east-2',\n",
    "    aws_access_key_id='',\n",
    "    aws_secret_access_key=''\n",
    ")"
   ]
  },
  {
   "cell_type": "code",
   "execution_count": 52,
   "id": "46d5d453",
   "metadata": {
    "scrolled": true
   },
   "outputs": [
    {
     "name": "stdout",
     "output_type": "stream",
     "text": [
      "sagemaker-studio-mlebqzpwrj\n",
      "sagemakerapp\n"
     ]
    }
   ],
   "source": [
    "# Print out bucket names\n",
    "for bucket in s3.buckets.all():\n",
    "    print(bucket.name)"
   ]
  },
  {
   "cell_type": "code",
   "execution_count": 53,
   "id": "9bb5a140",
   "metadata": {},
   "outputs": [
    {
     "name": "stdout",
     "output_type": "stream",
     "text": [
      "s3.ObjectSummary(bucket_name='sagemakerapp', key='data.json')\n"
     ]
    }
   ],
   "source": [
    "for obj in s3.Bucket('sagemakerapp').objects.all():\n",
    "    print(obj)"
   ]
  },
  {
   "cell_type": "code",
   "execution_count": 59,
   "id": "8ae0c871",
   "metadata": {},
   "outputs": [],
   "source": [
    "obj = s3.Bucket('sagemakerapp').Object('data.json').get()"
   ]
  },
  {
   "cell_type": "code",
   "execution_count": 60,
   "id": "1bb61a72",
   "metadata": {},
   "outputs": [],
   "source": [
    "file_content = obj['Body'].read().decode('utf-8')"
   ]
  },
  {
   "cell_type": "code",
   "execution_count": 58,
   "id": "ab953cac",
   "metadata": {},
   "outputs": [
    {
     "name": "stdout",
     "output_type": "stream",
     "text": [
      "{\n",
      "resposnse: [\n",
      "{\n",
      "Cusip : \"9xxx\",\n",
      "Isin : \"EDSS99XXX\",\n",
      "underlier_id : [{\n",
      "                 unde_cusip : \"test\",\n",
      "\t\t bloomber_id : \"test\"\n",
      "\t\t}]\n",
      "Attr : \"test\"},\n",
      "{\n",
      "Cusip : \"92xxx\",\n",
      "Isin : \"SS99XXX\",\n",
      "underlier_id : []\n",
      "Attr : \"test\"}\n",
      "}\n",
      "\n"
     ]
    }
   ],
   "source": [
    "print(file_content)"
   ]
  },
  {
   "cell_type": "code",
   "execution_count": null,
   "id": "81c420af",
   "metadata": {},
   "outputs": [],
   "source": []
  }
 ],
 "metadata": {
  "kernelspec": {
   "display_name": "Python 3 (ipykernel)",
   "language": "python",
   "name": "python3"
  },
  "language_info": {
   "codemirror_mode": {
    "name": "ipython",
    "version": 3
   },
   "file_extension": ".py",
   "mimetype": "text/x-python",
   "name": "python",
   "nbconvert_exporter": "python",
   "pygments_lexer": "ipython3",
   "version": "3.11.4"
  }
 },
 "nbformat": 4,
 "nbformat_minor": 5
}
