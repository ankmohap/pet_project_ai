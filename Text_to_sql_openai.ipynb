{
 "cells": [
  {
   "cell_type": "code",
   "execution_count": 10,
   "id": "6406e6e9",
   "metadata": {},
   "outputs": [],
   "source": [
    "import openai\n",
    "\n",
    "import os\n",
    "from open_key import api_key\n",
    "os.environ['OPENAI_API_KEY'] = api_key\n",
    "openai.api_key = api_key\n",
    "\n",
    "# List of tables and columns (customize this based on your database schema)\n",
    "tables = {\n",
    "    \"client\": [\"name\", \"age\", \"city\"],\n",
    "    \"orders\": [\"order_cd\", \"client_name\", \"amount\",\"product_name\",\"product_cd\"]\n",
    "}\n"
   ]
  },
  {
   "cell_type": "code",
   "execution_count": 11,
   "id": "81e0af86",
   "metadata": {},
   "outputs": [],
   "source": [
    "\n",
    "# Generate the prompt based on the provided tables and columns\n",
    "def generate_prompt(tables):\n",
    "    prompt = \"You can query data from the following tables:\\n\"\n",
    "    for table, columns in tables.items():\n",
    "        columns_str = \", \".join(columns)\n",
    "        prompt += f\"- {table} with columns: {columns_str}\\n\"\n",
    "    prompt += \"Please write a natural language query using these tables and columns to get the data you need.\"\n",
    "    return prompt\n",
    "\n"
   ]
  },
  {
   "cell_type": "code",
   "execution_count": 12,
   "id": "326d7c73",
   "metadata": {},
   "outputs": [],
   "source": [
    "# Function to convert user's text to SQL query\n",
    "def text_to_sql(user_input, tables):\n",
    "    prompt = generate_prompt(tables)\n",
    "    response = openai.Completion.create(\n",
    "        engine=\"text-davinci-002\",  # Use the engine of your choice\n",
    "        prompt=f\"{prompt}\\nUser Input: {user_input}\",\n",
    "        max_tokens=200\n",
    "    )\n",
    "    sql_query = response.choices[0].text.strip().split(\"User Output: \")[-1]\n",
    "    return sql_query\n",
    "\n"
   ]
  },
  {
   "cell_type": "code",
   "execution_count": 14,
   "id": "a7eca53d",
   "metadata": {},
   "outputs": [
    {
     "name": "stdout",
     "output_type": "stream",
     "text": [
      "Generated SQL Query:\n",
      "SELECT product_name, amount \n",
      "FROM orders \n",
      "JOIN client \n",
      "ON orders.client_name=client.name \n",
      "WHERE client.city='angadi'\n"
     ]
    }
   ],
   "source": [
    "# Example usage:\n",
    "user_text = \"what is the price of all products which is brought by clients those belong to angadi\"\n",
    "sql_query = text_to_sql(user_text, tables)\n",
    "print(\"Generated SQL Query:\")\n",
    "print(sql_query)"
   ]
  },
  {
   "cell_type": "code",
   "execution_count": null,
   "id": "e86171d6",
   "metadata": {},
   "outputs": [],
   "source": []
  }
 ],
 "metadata": {
  "kernelspec": {
   "display_name": "Python 3 (ipykernel)",
   "language": "python",
   "name": "python3"
  },
  "language_info": {
   "codemirror_mode": {
    "name": "ipython",
    "version": 3
   },
   "file_extension": ".py",
   "mimetype": "text/x-python",
   "name": "python",
   "nbconvert_exporter": "python",
   "pygments_lexer": "ipython3",
   "version": "3.11.4"
  }
 },
 "nbformat": 4,
 "nbformat_minor": 5
}
